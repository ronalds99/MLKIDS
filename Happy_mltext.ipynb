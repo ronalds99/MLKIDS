{
  "nbformat": 4,
  "nbformat_minor": 0,
  "metadata": {
    "colab": {
      "name": "Happy-mltext",
      "provenance": [],
      "authorship_tag": "ABX9TyMt+igHgpURtzRjPrVteV4J",
      "include_colab_link": true
    },
    "kernelspec": {
      "name": "python3",
      "display_name": "Python 3"
    }
  },
  "cells": [
    {
      "cell_type": "markdown",
      "metadata": {
        "id": "view-in-github",
        "colab_type": "text"
      },
      "source": [
        "<a href=\"https://colab.research.google.com/github/ronalds99/MLKIDS/blob/main/Happy_mltext.ipynb\" target=\"_parent\"><img src=\"https://colab.research.google.com/assets/colab-badge.svg\" alt=\"Open In Colab\"/></a>"
      ]
    },
    {
      "cell_type": "code",
      "metadata": {
        "id": "7_zqXeo0GUFO"
      },
      "source": [
        "import requests\n",
        "from mlmodel import checkApiKey\n",
        "\n",
        "\n",
        "\n",
        "#\n",
        "# This function will pass your text to the machine learning model\n",
        "# and return the top result with the highest confidence\n",
        "#\n",
        "#  key - API key - the secret code for your ML project \n",
        "#  text - the text that you want your ML model to classify\n",
        "#\n",
        "def classifyText(key, text):\n",
        "  checkApiKey(key)\n",
        "\n",
        "  url = (\"https://machinelearningforkids.co.uk/api/scratch/\" + \n",
        "         key + \n",
        "         \"/classify\")\n",
        "\n",
        "  response = requests.post(url, json={ \"data\" : text })\n",
        "\n",
        "  if response.ok:\n",
        "    responseData = response.json()\n",
        "    topMatch = responseData[0]\n",
        "    return topMatch\n",
        "  else:\n",
        "    errorData = response.json()\n",
        "    print (errorData)\n",
        "    response.raise_for_status()\n",
        "\n",
        "\n",
        "#\n",
        "# This function will store your text in one of the training\n",
        "# buckets in your machine learning project\n",
        "#\n",
        "#  key - API key - the secret code for your ML project \n",
        "#  text - the text that you want to store as a training example\n",
        "#  label - the training bucket to put text into\n",
        "#\n",
        "def storeText(key, text, label):\n",
        "  checkApiKey(key)\n",
        "  \n",
        "  url = (\"https://machinelearningforkids.co.uk/api/scratch/\" + \n",
        "         key + \n",
        "         \"/train\")\n",
        "\n",
        "  response = requests.post(url, \n",
        "                           json={ \"data\" : text, \"label\" : label })\n",
        "\n",
        "  if response.ok == False:\n",
        "    # if something went wrong, display the error\n",
        "    print (response.json())"
      ],
      "execution_count": null,
      "outputs": []
    }
  ]
}