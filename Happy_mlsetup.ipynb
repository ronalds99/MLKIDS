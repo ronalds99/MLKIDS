{
  "nbformat": 4,
  "nbformat_minor": 0,
  "metadata": {
    "colab": {
      "name": "Happy-mlsetup",
      "provenance": [],
      "authorship_tag": "ABX9TyN/8Jnn+1gj7RTAmhi0Bk7x",
      "include_colab_link": true
    },
    "kernelspec": {
      "name": "python3",
      "display_name": "Python 3"
    }
  },
  "cells": [
    {
      "cell_type": "markdown",
      "metadata": {
        "id": "view-in-github",
        "colab_type": "text"
      },
      "source": [
        "<a href=\"https://colab.research.google.com/github/ronalds99/MLKIDS/blob/main/Happy_mlsetup.ipynb\" target=\"_parent\"><img src=\"https://colab.research.google.com/assets/colab-badge.svg\" alt=\"Open In Colab\"/></a>"
      ]
    },
    {
      "cell_type": "code",
      "metadata": {
        "id": "4Nfaih7MFgLL"
      },
      "source": [
        "from mltext import classifyText, storeText\n",
        "from mlmodel import trainModel, checkModel\n",
        "\n",
        "\n",
        "API_KEY = \"d2692780-323e-11eb-a987-87b2c6cdf1caa8800c27-0fe3-4507-9e3e-8006e9f463c2\""
      ],
      "execution_count": null,
      "outputs": []
    }
  ]
}