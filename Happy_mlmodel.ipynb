{
  "nbformat": 4,
  "nbformat_minor": 0,
  "metadata": {
    "colab": {
      "name": "Happy-mlmodel",
      "provenance": [],
      "authorship_tag": "ABX9TyMDlVJNvqqps4W29qSiPSCQ",
      "include_colab_link": true
    },
    "kernelspec": {
      "name": "python3",
      "display_name": "Python 3"
    }
  },
  "cells": [
    {
      "cell_type": "markdown",
      "metadata": {
        "id": "view-in-github",
        "colab_type": "text"
      },
      "source": [
        "<a href=\"https://colab.research.google.com/github/ronalds99/MLKIDS/blob/main/Happy_mlmodel.ipynb\" target=\"_parent\"><img src=\"https://colab.research.google.com/assets/colab-badge.svg\" alt=\"Open In Colab\"/></a>"
      ]
    },
    {
      "cell_type": "code",
      "metadata": {
        "id": "vKG3_lXcF17K"
      },
      "source": [
        "import requests\n",
        "import sys\n",
        "\n",
        "\n",
        "# checks that a custom API key has been provided\n",
        "def checkApiKey(key):\n",
        "  if key == \"CHANGE THIS TO YOUR PROJECT API KEY\":\n",
        "    print (\"You need to enter your secret project API key into this sample.\")\n",
        "    print(\"Replace the string on line 6 with your key.\")\n",
        "    sys.exit()\n",
        "\n",
        "\n",
        "\n",
        "#\n",
        "# This function will train a new ML model using the current \n",
        "# training examples in your project\n",
        "#\n",
        "#  key - API key - the secret code for your ML project \n",
        "#\n",
        "def trainModel(key):\n",
        "  checkApiKey(key)\n",
        "  \n",
        "  url = (\"https://machinelearningforkids.co.uk/api/scratch/\" + \n",
        "         key + \n",
        "         \"/models\")\n",
        "\n",
        "  response = requests.post(url)\n",
        "\n",
        "  if response.ok == False:\n",
        "    # if something went wrong, display the error\n",
        "    print (response.json())\n",
        "    \n",
        "\n",
        "\n",
        "#\n",
        "# This function will check the training status of the \n",
        "# machine learning model for your project\n",
        "#\n",
        "#  key - API key - the secret code for your ML project \n",
        "#\n",
        "def checkModel(key):\n",
        "  checkApiKey(key)\n",
        "  \n",
        "  url = (\"https://machinelearningforkids.co.uk/api/scratch/\" + \n",
        "         key + \n",
        "         \"/status\")\n",
        "\n",
        "  response = requests.get(url)\n",
        "\n",
        "  if response.ok:\n",
        "    responseData = response.json()\n",
        "\n",
        "    status = {\n",
        "      2 : \"ready to use\",\n",
        "      1 : \"training is in progress\",\n",
        "      0 : \"problem\"\n",
        "    }\n",
        "\n",
        "    return { \n",
        "      \"status\" : status[responseData[\"status\"]], \n",
        "      \"msg\" : responseData[\"msg\"] \n",
        "    }\n",
        "  else:\n",
        "    # if something went wrong, display the error\n",
        "    print (response.json())"
      ],
      "execution_count": null,
      "outputs": []
    }
  ]
}